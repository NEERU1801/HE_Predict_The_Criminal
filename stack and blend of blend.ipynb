{
 "cells": [
  {
   "cell_type": "code",
   "execution_count": 2,
   "metadata": {
    "collapsed": true
   },
   "outputs": [
    {
     "name": "stderr",
     "output_type": "stream",
     "text": [
      "C:\\Users\\royal\\Anaconda3\\lib\\site-packages\\sklearn\\cross_validation.py:41: DeprecationWarning: This module was deprecated in version 0.18 in favor of the model_selection module into which all the refactored classes and functions are moved. Also note that the interface of the new CV iterators are different from that of this module. This module will be removed in 0.20.\n",
      "  \"This module will be removed in 0.20.\", DeprecationWarning)\n"
     ]
    }
   ],
   "source": [
    "%matplotlib inline\n",
    "import numpy as np\n",
    "import os\n",
    "import matplotlib.pyplot as plt\n",
    "import pandas as pd\n",
    "import random\n",
    "import xgboost as xgb\n",
    "from sklearn.metrics import matthews_corrcoef, roc_auc_score\n",
    "\n",
    "from sklearn.preprocessing import MinMaxScaler\n",
    "from sklearn import preprocessing\n",
    "from sklearn.linear_model import LogisticRegression\n",
    "from xgboost import XGBClassifier\n",
    "import lightgbm as lgb\n",
    "from sklearn.cross_validation import StratifiedKFold\n",
    "from rgf.sklearn import RGFClassifier\n",
    "from sklearn.ensemble import RandomForestClassifier\n",
    "from sklearn.linear_model import LogisticRegression\n",
    "from sklearn.preprocessing import OneHotEncoder\n",
    "from scipy.stats import rankdata\n",
    "\n",
    "from sklearn.ensemble import ExtraTreesClassifier\n",
    "from sklearn.preprocessing import StandardScaler"
   ]
  },
  {
   "cell_type": "code",
   "execution_count": 194,
   "metadata": {},
   "outputs": [],
   "source": [
    "os.chdir('C:\\\\Users\\\\royal\\\\Downloads\\\\Compressed\\\\Hacker-chall\\\\subm new')"
   ]
  },
  {
   "cell_type": "code",
   "execution_count": 192,
   "metadata": {
    "collapsed": true
   },
   "outputs": [],
   "source": [
    "os.chdir('C:\\\\Users\\\\royal\\\\Downloads\\\\Compressed\\\\Hacker-chall\\\\New folder')"
   ]
  },
  {
   "cell_type": "code",
   "execution_count": 37,
   "metadata": {
    "collapsed": true
   },
   "outputs": [
    {
     "data": {
      "text/plain": [
       "['submission_lgbm1_2nd.csv',\n",
       " 'submission_lgbm_2nd.csv',\n",
       " 'submission_lgbm_boruta_83455.csv',\n",
       " 'submission_lgbm_boruta_83744.csv',\n",
       " 'submission_lgbm_boruta_83899.csv',\n",
       " 'submission_lgbm_boruto_random42_83836.csv',\n",
       " 'submission_lgbm_dae_82958.csv',\n",
       " 'submission_lgbm_dae_831.csv',\n",
       " 'submission_lgbm_label.csv',\n",
       " 'submission_lgbm_labelall_83773.csv',\n",
       " 'submission_lgbm_label_iter.csv',\n",
       " 'submission_lr_83915.csv',\n",
       " 'submission_lr_dae_813.csv',\n",
       " 'submission_lr_dae_81711.csv',\n",
       " 'submission_nn_dae_82060.csv',\n",
       " 'submission_nn_dae_82339.csv',\n",
       " 'submission_nn_label.csv',\n",
       " 'submission_nn_label2.csv',\n",
       " 'submission_port.csv',\n",
       " 'submission_rgf_label.csv',\n",
       " 'submission_rgf_labelall_83870.csv',\n",
       " 'submission_test_lgbm_boruta_0.6487886437082024.csv',\n",
       " 'submission_test_lgbm_dae83060_0.637506292826641.csv',\n",
       " 'submission_test_lgbm_dae8310_0.6325875913535679.csv',\n",
       " 'submission_test_lr_label_0.6368902511017857.csv',\n",
       " 'submission_test_nn_0.6354101561578097.csv',\n",
       " 'submission_test_nn_dae82060_0.6008897633954858.csv',\n",
       " 'submission_test_nn_dae8233_0.6230026291133335.csv',\n",
       " 'submission_test_nn_dae8238_0.605955864392005.csv',\n",
       " 'submission_test__Rfc_0.6022755875780139.csv',\n",
       " 'submission_test__Ridge_0.6109598546734528.csv',\n",
       " 'submission_train_lgbm_boruta_0.6487886437082024.csv',\n",
       " 'submission_train_lgbm_dae83060_0.637506292826641.csv',\n",
       " 'submission_train_lgbm_dae8310_0.6325875913535679.csv',\n",
       " 'submission_train_lr_label_0.6368902511017857.csv',\n",
       " 'submission_train_nn_0.6354101561578097.csv',\n",
       " 'submission_train_nn_dae82060_0.6008897633954858.csv',\n",
       " 'submission_train_nn_dae8233_0.6230026291133335.csv',\n",
       " 'submission_train_nn_dae8238_0.605955864392005.csv',\n",
       " 'submission_train__Rfc_0.6022755875780139.csv',\n",
       " 'submission_train__Ridge_0.6109598546734528.csv']"
      ]
     },
     "execution_count": 37,
     "metadata": {},
     "output_type": "execute_result"
    }
   ],
   "source": [
    "os.listdir()"
   ]
  },
  {
   "cell_type": "code",
   "execution_count": 193,
   "metadata": {},
   "outputs": [
    {
     "name": "stdout",
     "output_type": "stream",
     "text": [
      "Wall time: 967 ms\n"
     ]
    }
   ],
   "source": [
    "%%time\n",
    "\n",
    "##all the submission files from boruta feature selection,labelencoder and extra feature selection plus some nn.\n",
    "sub_0 = pd.read_csv('submission_lgbm1_2nd.csv')\n",
    "sub_1 = pd.read_csv('submission_lgbm_2nd.csv')\n",
    "sub_2 = pd.read_csv('submission_lgbm_boruta_83455.csv')\n",
    "sub_3 = pd.read_csv('submission_lgbm_boruta_83744.csv')\n",
    "sub_4 = pd.read_csv('submission_lgbm_boruta_83899.csv')\n",
    "sub_5 = pd.read_csv('submission_lgbm_boruto_random42_83836.csv')\n",
    "sub_6 = pd.read_csv('submission_lgbm_dae_82958.csv')\n",
    "sub_7 = pd.read_csv('submission_lgbm_dae_831.csv')\n",
    "sub_8 = pd.read_csv('submission_lgbm_label.csv')\n",
    "sub_9 = pd.read_csv('submission_lgbm_labelall_83773.csv')\n",
    "sub_10 = pd.read_csv('submission_lgbm_label_iter.csv')\n",
    "sub_11 = pd.read_csv('submission_lr_83915.csv')\n",
    "sub_12 = pd.read_csv('submission_lr_dae_813.csv')\n",
    "sub_13 = pd.read_csv('submission_lr_dae_81711.csv')\n",
    "sub_14 = pd.read_csv('submission_nn_dae_82060.csv')\n",
    "sub_15 = pd.read_csv('submission_nn_dae_82339.csv')\n",
    "sub_16 = pd.read_csv('submission_nn_label.csv')\n",
    "sub_17 = pd.read_csv('submission_nn_label2.csv')\n",
    "sub_18 = pd.read_csv('submission_port.csv')\n",
    "sub_19 = pd.read_csv('submission_rgf_label.csv')\n",
    "sub_20 = pd.read_csv('submission_rgf_labelall_83870.csv')\n",
    "sub_21 = pd.read_csv('submission_test_lgbm_boruta_0.6487886437082024.csv')\n",
    "sub_22 = pd.read_csv('submission_test_lgbm_dae83060_0.637506292826641.csv')\n",
    "sub_23 = pd.read_csv('submission_test_lgbm_dae8310_0.6325875913535679.csv')\n",
    "sub_24 = pd.read_csv('submission_test_lr_label_0.6368902511017857.csv')\n",
    "sub_25 = pd.read_csv('submission_test_nn_0.6354101561578097.csv')\n",
    "sub_26 = pd.read_csv('submission_test_nn_dae82060_0.6008897633954858.csv')\n",
    "sub_27 = pd.read_csv('submission_test_nn_dae8233_0.6230026291133335.csv')\n",
    "sub_28 = pd.read_csv('submission_test_nn_dae8238_0.605955864392005.csv')\n",
    "sub_29 = pd.read_csv('submission_test__Rfc_0.6022755875780139.csv')\n",
    "sub_30 = pd.read_csv('submission_test__Ridge_0.6109598546734528.csv')\n",
    "sub_31 = pd.read_csv('submission_train_lgbm_boruta_0.6487886437082024.csv')\n",
    "sub_32 = pd.read_csv('submission_train_lgbm_dae83060_0.637506292826641.csv')\n",
    "sub_33 = pd.read_csv('submission_train_lgbm_dae8310_0.6325875913535679.csv')\n",
    "sub_34 = pd.read_csv('submission_train_lr_label_0.6368902511017857.csv')\n",
    "sub_35 = pd.read_csv('submission_train_nn_0.6354101561578097.csv')\n",
    "sub_36 = pd.read_csv('submission_train_nn_dae82060_0.6008897633954858.csv')\n",
    "sub_37 = pd.read_csv('submission_train_nn_dae8233_0.6230026291133335.csv')\n",
    "sub_38 = pd.read_csv('submission_train_nn_dae8238_0.605955864392005.csv')\n",
    "sub_39 = pd.read_csv('submission_train__Rfc_0.6022755875780139.csv')\n",
    "sub_40 = pd.read_csv('submission_train__Ridge_0.6109598546734528.csv')"
   ]
  },
  {
   "cell_type": "code",
   "execution_count": 189,
   "metadata": {},
   "outputs": [
    {
     "name": "stdout",
     "output_type": "stream",
     "text": [
      "Wall time: 2.9 s\n"
     ]
    }
   ],
   "source": [
    "%%time\n",
    "## submision files for logistic regression,lightgbm,xgboost,extratree,stacked with extratrees,rgf with different features.\n",
    "## and highest Public submission files \n",
    "lr_ts=pd.read_csv('submission_test__Lr_0.650642725010492.csv')\n",
    "lr_tr=pd.read_csv('submission_train__Lr_0.650642725010492.csv')\n",
    "lr_ts1=pd.read_csv('submission_test_lr1_0.6480558723778655.csv')\n",
    "lr_tr1=pd.read_csv('submission_train_lr1_0.6480558723778655.csv')\n",
    "lr_tsnew=pd.read_csv('submission_test_lrnew_0.6540454957985281.csv')\n",
    "lr_tsnew1=pd.read_csv('submission_test_lrnew1_0.6500868736697051.csv')\n",
    "lr_trnew=pd.read_csv('submission_train_lrnew_0.6540454957985281.csv')\n",
    "lr_trnew1=pd.read_csv('submission_train_lrnew1_0.6500868736697051.csv')\n",
    "lr_tsfet=pd.read_csv('submission_test_lrfet_0.616734100860398.csv')\n",
    "lr_tsstack=pd.read_csv('submission_test_lrstack_0.6516552034687685.csv')\n",
    "lr_tsstack1=pd.read_csv('submission_test_lrstack1_0.6573487283647758.csv')\n",
    "lr_tsstack2=pd.read_csv('submission_test_lrstack_0.6573487283647758.csv')\n",
    "\n",
    "lr_trfet=pd.read_csv('submission_train_lrfet_0.616734100860398.csv')\n",
    "lr_trstack=pd.read_csv('submission_train_lrstack_0.6516552034687685.csv')\n",
    "lr_trstack1=pd.read_csv('submission_train_lrstack1_0.6573487283647758.csv')\n",
    "lr_trstack2=pd.read_csv('submission_train_lrstack_0.6573487283647758.csv')\n",
    "\n",
    "grad_ts=pd.read_csv('submission_test_gradb_0.6465276915460432.csv')\n",
    "grad_tr=pd.read_csv('submission_train_gradb_0.6465276915460432.csv')\n",
    "extra_ts=pd.read_csv('submission_test_extra_0.6283539057168667.csv')\n",
    "extra_tr=pd.read_csv('submission_train_extra_0.6283539057168667.csv')\n",
    "\n",
    "rgf_ts=pd.read_csv('submission_test__Rgf_0.6517340388845543.csv')\n",
    "rgf_tr=pd.read_csv('submission_train__Rgf_0.6517340388845543.csv')\n",
    "rgf_ts1=pd.read_csv('submission_test_rgf1_0.6524804305628167.csv')\n",
    "rgf_tr1=pd.read_csv('submission_train_rgf1_0.6524804305628167.csv')\n",
    "\n",
    "rgf_tsnew=pd.read_csv('submission_test_rgfnew_0.6545310871113001.csv')\n",
    "rgf_tsnew1=pd.read_csv('submission_test_rgfnew1_0.654866852695362.csv')\n",
    "rgf_tsnew2=pd.read_csv('submission_test_rgfnew2_0.6510651347099539.csv')\n",
    "rgf_tsnew3=pd.read_csv('submission_test_rgfnew3_0.6554552773394653.csv')\n",
    "rgf_tsnew4=pd.read_csv('submission_test_rgfnew4_0.6548804731510887.csv')\n",
    "\n",
    "rgf_trnew=pd.read_csv('submission_train_rgfnew_0.6545310871113001.csv')\n",
    "rgf_trnew1=pd.read_csv('submission_train_rgfnew1_0.654866852695362.csv')\n",
    "rgf_trnew2=pd.read_csv('submission_train_rgfnew2_0.6510651347099539.csv')\n",
    "rgf_trnew3=pd.read_csv('submission_train_rgfnew3_0.6554552773394653.csv')\n",
    "rgf_trnew4=pd.read_csv('submission_train_rgfnew4_0.6548804731510887.csv')\n",
    "\n",
    "# ridg_ts=pd.read_csv('submission_test__Ridge_0.6109598546734528.csv')\n",
    "#ridg_tr=pd.read_csv('submission_train__Ridge_0.6109598546734528.csv')\n",
    "xgb_ts=pd.read_csv('submission_test__Xgb_0.6476731391728516.csv')\n",
    "xgb_tr=pd.read_csv('submission_train__Xgb_0.6476731391728516.csv')\n",
    "xgb_ts1=pd.read_csv('submission_test_xgb1_0.6479415213698564.csv')\n",
    "xgb_tr1=pd.read_csv('submission_train_xgb1_0.6479415213698564.csv')\n",
    "xgb_tsnew1=pd.read_csv('submission_test_xgbnew1_0.6531697350622465.csv')\n",
    "xgb_trnew1=pd.read_csv('submission_train_xgbnew1_0.6531697350622465.csv')\n",
    "\n",
    "lgb_ts = pd.read_csv('submission_test__Lgb_0.6492425994942331.csv')\n",
    "lgb_ts1 = pd.read_csv('submission_test_lgb_0.6528358322312017.csv')\n",
    "lgb_ts2 = pd.read_csv('submission_test_lgb2_0.6540413491454506.csv')\n",
    "lgb_ts3 = pd.read_csv('submission_test_lgb3_0.6528336213901496.csv')\n",
    "lgb_ts4 = pd.read_csv('submission_test_lgb4_0.654614977600063.csv')\n",
    "lgb_ts5 = pd.read_csv('submission_test_lgb5_0.648383958469833.csv')\n",
    "lgb_ts6 = pd.read_csv('submission_test_lgb6_0.653353950363284.csv')\n",
    "lgb_ts7 = pd.read_csv('submission_test_lgb7_0.6483687842355492.csv')\n",
    "lgb_ts8 = pd.read_csv('submission_test_lgb8_0.6516468653940162.csv')\n",
    "lgb_tsnew = pd.read_csv('submission_test_lgbnew_0.6477402399382348.csv')\n",
    "lgb_tsnew1 = pd.read_csv('submission_test_lgbnew1_0.646457068715569.csv')\n",
    "lgb_tsfet1 = pd.read_csv('submission_test_lgbfet1_0.6508337687482117.csv')\n",
    "lgb_tsfet2 = pd.read_csv('submission_test_lgbfet2_0.6516904609987019.csv')\n",
    "lgb_tsfet3 = pd.read_csv('submission_test_lgbfet3_0.6496708281455335.csv')\n",
    "lgb_tsfet4 = pd.read_csv('submission_test_lgbfet4_0.6523723038458419.csv')\n",
    "lgb_tsfet5 = pd.read_csv('submission_test_lgbfet5_0.6487715181044762.csv')\n",
    "lgb_tspca = pd.read_csv('submission_test_lgbpca_0.5863382031393275.csv')\n",
    "lgb_tsnew2 = pd.read_csv('submission_test_lgbnew2_0.6453946877596839.csv')\n",
    "\n",
    "lgb_tr = pd.read_csv('submission_train__Lgb_0.6492425994942331.csv')\n",
    "lgb_tr1 = pd.read_csv('submission_train_lgb_0.6528358322312017.csv')\n",
    "lgb_tr2 = pd.read_csv('submission_train_lgb2_0.6540413491454506.csv')\n",
    "lgb_tr3 = pd.read_csv('submission_train_lgb3_0.6528336213901496.csv')\n",
    "lgb_tr4 = pd.read_csv('submission_train_lgb4_0.654614977600063.csv')\n",
    "lgb_tr5 = pd.read_csv('submission_train_lgb5_0.648383958469833.csv')\n",
    "lgb_tr6 = pd.read_csv('submission_train_lgb6_0.653353950363284.csv')\n",
    "lgb_tr7 = pd.read_csv('submission_train_lgb7_0.6483687842355492.csv')\n",
    "lgb_tr8 = pd.read_csv('submission_train_lgb8_0.6516468653940162.csv')\n",
    "lgb_trnew = pd.read_csv('submission_train_lgbnew_0.6477402399382348.csv')\n",
    "lgb_trnew1 = pd.read_csv('submission_train_lgbnew1_0.646457068715569.csv')\n",
    "lgb_trfet1 = pd.read_csv('submission_train_lgbfet1_0.6508337687482117.csv')\n",
    "lgb_trfet2 = pd.read_csv('submission_train_lgbfet2_0.6516904609987019.csv')\n",
    "lgb_trfet3 = pd.read_csv('submission_train_lgbfet3_0.6496708281455335.csv')\n",
    "lgb_trfet4 = pd.read_csv('submission_train_lgbfet4_0.6523723038458419.csv')\n",
    "lgb_trfet5 = pd.read_csv('submission_train_lgbfet5_0.6487715181044762.csv')\n",
    "lgb_trpca = pd.read_csv('submission_train_lgbpca_0.5863382031393275.csv')\n",
    "lgb_trnew2 = pd.read_csv('submission_train_lgbnew2_0.6453946877596839.csv')\n",
    "\n",
    "extr_trstac = pd.read_csv('submission_train_extrastack_0.6491368358125452.csv')\n",
    "extr_tsstac = pd.read_csv('submission_test_extrastack_0.6491368358125452.csv')\n",
    "\n",
    "sub_84404 = pd.read_csv('subm_0.84404.csv')\n",
    "sub_84372 = pd.read_csv('subm_0.84372.csv')\n",
    "sub_84469 = pd.read_csv('subm_0.84469.csv')\n",
    "sub_84598 = pd.read_csv('subm_0.84598.csv')\n",
    "sub_84358 = pd.read_csv('subm_84358.csv') #blend extra_tsstac and sub_84340\n",
    "\n",
    "\n",
    "\n",
    "sub_83688 = pd.read_csv('stacked_83668.csv')\n",
    "sub_84790 = pd.read_csv('subm_84790.csv')\n",
    "\n",
    "sub_nocat_lgb = pd.read_csv('submission_nocat_lgb.csv')\n",
    "sub_nocat_nn = pd.read_csv('submission_nocat_nn.csv')\n",
    "sub_nocat_rgf = pd.read_csv('submission_nocat_rgf.csv')\n",
    "\n",
    "subm_84824 = pd.read_csv('subm_0.84824.csv')\n",
    "su_608 = pd.read_csv('608.csv')\n",
    "su_573 = pd.read_csv('573_6.csv')\n",
    "\n",
    "subm_84453 = pd.read_csv('subm_84453.csv')\n",
    "sub_stack = pd.read_csv('submission_stack.csv')\n",
    "test=pd.read_csv('test.csv')\n",
    "train=pd.read_csv('train.csv')"
   ]
  },
  {
   "cell_type": "code",
   "execution_count": 269,
   "metadata": {
    "collapsed": true
   },
   "outputs": [],
   "source": [
    "sub_84340 = pd.read_csv('submission_0.84340.csv')"
   ]
  },
  {
   "cell_type": "code",
   "execution_count": 5,
   "metadata": {
    "collapsed": true
   },
   "outputs": [],
   "source": [
    "su = pd.read_csv('submission.csv')"
   ]
  },
  {
   "cell_type": "code",
   "execution_count": 111,
   "metadata": {
    "collapsed": true
   },
   "outputs": [],
   "source": [
    "## parity bit changer\n",
    "aa = [40695779,80482050,69430670, 31758850, 82786310, 65462809, 37586460, 43929120, 89521699, 27697190, 47815720, 56749099, 93057070, 85904430, 43685429, 71936060, 21799489, 17153089, 78656070, 83258960, 32392790, 33572950, 50480730, 99692639, 67687010, 84386410, 87095410, 82240630, 51325560, 41364099, 48489609, 91944589, 47507090, 65004180, 44479640, 84079270, 60823719, 69962409, 45296810, 91343020, 29663919, 99500210, 33986229, 26633400, 43109050, 28601540, 88640710, 38118090, 77568739, 19034340, 88489190, 39086310, 34202350, 33260270, 51394290, 45049079, 95413499, 55318270, 98745090, 11031299, 17816329, 77507340, 81125650, 75208979, 31077140, 34785560, 91444510, 29558050, 63341860, 44922670, 21915440, 99024690, 79815989, 96673590, 17779000, 67897660, 15964990, 13591360, 45538130, 37853529, 37794139, 94472540, 25403230, 47598430, 58573160, 95029609, 64914289, 86183799, 16144250, 68566909, 63374719, 73678720, 81587080, 15889289, 65777550, 90352530, 35542429, 43803550, 16114079, 63350690, 45921699, 75618730, 11768750, 27043260, 39557060, 19000779, 31439820, 63636429, 63960540, 77963230, 25548770, 69308900, 21331429, 32251370, 87641589, 76650999, 54721530, 69507070]\n",
    "bb = [40695779, 60762339, 85170839, 11010560, 42817670, 86930580, 71618879]\n",
    "# bb = [67964079, 51346289, 89364289, 11708889, 26909989, 23615399, 73416309, 98848739, 50507640, 19700450, 33572950, 29558050, 49768100, 13885710, 43929120, 47815720, 24909720, 13708920, 63413230, 47598430, 40695779, 60762339, 85170839, 11010560, 42817670, 86930580]"
   ]
  },
  {
   "cell_type": "code",
   "execution_count": 196,
   "metadata": {
    "collapsed": true
   },
   "outputs": [],
   "source": [
    "su = sub_23\n",
    "for k,i in zip(lgb_ts['PERID'],su['Criminal']):\n",
    "    if k in aa:\n",
    "        su.loc[su['PERID'] == k, 'Criminal'] = 0\n",
    "    if k in bb:\n",
    "        su.loc[su['PERID'] == k, 'Criminal'] = 1"
   ]
  },
  {
   "cell_type": "code",
   "execution_count": 211,
   "metadata": {
    "collapsed": true
   },
   "outputs": [
    {
     "name": "stdout",
     "output_type": "stream",
     "text": [
      "40695779 0 1\n",
      "99492079 0 1\n",
      "67964079 0 1\n",
      "89364289 0 1\n",
      "11708889 0 1\n",
      "85728989 0 1\n",
      "82567799 0 1\n",
      "41863899 0 1\n",
      "51094999 0 1\n",
      "25820209 0 1\n",
      "73416309 0 1\n",
      "24299409 0 1\n",
      "12578009 0 1\n",
      "94509119 0 1\n",
      "96711219 0 1\n",
      "41725619 0 1\n",
      "28538619 0 1\n",
      "30120719 0 1\n",
      "30607819 0 1\n",
      "11786919 0 1\n",
      "14288429 0 1\n",
      "56691429 0 1\n",
      "43514729 0 1\n",
      "39262139 0 1\n",
      "66695639 0 1\n",
      "96280639 0 1\n",
      "98848739 0 1\n",
      "83378340 0 1\n",
      "50507640 0 1\n",
      "48210640 0 1\n",
      "54832740 0 1\n",
      "17048040 0 1\n",
      "73268450 0 1\n",
      "35849650 0 1\n",
      "92650750 0 1\n",
      "80482050 0 1\n",
      "59047460 0 1\n",
      "91868170 0 1\n",
      "72986470 0 1\n",
      "15031570 0 1\n",
      "69430670 0 1\n",
      "10880380 0 1\n",
      "86930580 0 1\n",
      "21676680 0 1\n",
      "13219780 0 1\n",
      "86628880 0 1\n",
      "52451190 0 1\n",
      "76992790 0 1\n",
      "49768100 0 1\n",
      "85743700 0 1\n",
      "92208800 0 1\n",
      "91322900 0 1\n",
      "16990220 0 1\n",
      "81018320 0 1\n",
      "57673320 0 1\n",
      "59138620 0 1\n",
      "13708920 0 1\n",
      "53640920 0 1\n",
      "91623130 0 1\n",
      "19664230 0 1\n",
      "65141530 0 1\n",
      "19981530 0 1\n"
     ]
    }
   ],
   "source": [
    "# there the imbalance inthe 0 and 1 so check with the highest scored file \n",
    "# if find difference then set all the low scored files prediction to 0\n",
    "# for k,i,j in zip(lgb_ts['PERID'],su['Criminal'],lgb_ts2['Criminal']):\n",
    "for k,i,j in zip(lgb_ts['PERID'],subm_84824['Criminal'],sub_84469['Criminal']):\n",
    "    if i!=j:\n",
    "        print(k,i,j)\n",
    "#         su.loc[su['PERID'] == k, 'Criminal'] = 0"
   ]
  },
  {
   "cell_type": "code",
   "execution_count": 271,
   "metadata": {
    "collapsed": true
   },
   "outputs": [],
   "source": [
    "filename = 'subm.csv'\n",
    "su.to_csv(filename, index=False)"
   ]
  },
  {
   "cell_type": "code",
   "execution_count": 190,
   "metadata": {
    "collapsed": true
   },
   "outputs": [],
   "source": [
    "# preds1 = (rgf_ts['Criminal']+lr_ts1['Criminal']+xgb_ts['Criminal']+lgb_ts4['Criminal']+lgb_ts7['Criminal'])/5 #84340\n",
    "# preds1=(sub_4['Criminal']+sub_84340['Criminal']+sub_5['Criminal']+sub_6['Criminal']+sub_8['Criminal'])/5 #84381\n",
    "# lgb_tr['Criminal'],lr_tr['Criminal'],lgb_tr1['Criminal'],rgf_tr['Criminal'],xgb_tr['Criminal']\n",
    "# preds1 = (rgf_tsnew1['Criminal']+lr_ts1['Criminal']+xgb_ts['Criminal']+lgb_tsnew2['Criminal']+lgb_ts7['Criminal'])/5 #8421\n",
    "\n",
    "# preds1 = (rgf_ts['Criminal']+lr_ts1['Criminal']+xgb_ts['Criminal']+sub_nocat_nn['Criminal']+lgb_ts7['Criminal'])/5\n",
    "# preds1 = (lgb_ts1['Criminal']+lgb_ts2['Criminal']+lgb_ts3['Criminal']+lgb_ts4['Criminal']+lgb_ts5['Criminal']+lgb_ts6['Criminal']+lgb_ts7['Criminal'])/7\n",
    "# preds1=(lgb_ts['Criminal']+xgb_ts['Criminal'])/2\n",
    "# sub_4,sub_7,sub_9,sub_11,sub_20\n",
    "# preds1=(sub_4['Criminal']+sub_7['Criminal']+sub_9['Criminal']+sub_11['Criminal']+sub_20['Criminal'])/5 #84745\n",
    "# preds1=(rgf_tsnew1['Criminal']+sub_7['Criminal']+sub_9['Criminal']+sub_11['Criminal']+sub_20['Criminal'])/5 #84665\n",
    "# preds1=(sub_4['Criminal']+sub_7['Criminal']+sub_9['Criminal']+sub_84598['Criminal']+sub_20['Criminal'])/5 #84790\n",
    "# preds1=(sub_4['Criminal']+sub_7['Criminal']+sub_84598['Criminal']+sub_11['Criminal']+sub_20['Criminal'])/5 #84824\n",
    "preds1=(subm_84824['Criminal']+subm_84453['Criminal']+sub_5['Criminal']+sub_10['Criminal']+sub_8['Criminal'])/5\n",
    "\n",
    "prediction_rfc=list(range(len(preds1)))\n",
    "for i in range(len(preds1)):\n",
    "    prediction_rfc[i]=1 if preds1[i]>=0.80 else 0\n",
    "\n",
    "sub = pd.DataFrame({'PERID': ts_PERID, 'Criminal': prediction_rfc})\n",
    "sub=sub.reindex(columns=[\"PERID\",\"Criminal\"])\n",
    "filename = 'submission.csv'\n",
    "sub.to_csv(filename, index=False)"
   ]
  },
  {
   "cell_type": "code",
   "execution_count": null,
   "metadata": {
    "collapsed": true
   },
   "outputs": [],
   "source": [
    "lgb_tr.columns\n",
    "ts_PERID=test['PERID']"
   ]
  },
  {
   "cell_type": "code",
   "execution_count": null,
   "metadata": {
    "collapsed": true
   },
   "outputs": [],
   "source": [
    "X_tr=np.column_stack((lgb_tr['Criminal'],lr_tr['Criminal'],lgb_tr1['Criminal'],rgf_tr['Criminal'],xgb_tr['Criminal']))\n",
    "X_ts=np.column_stack((lgb_ts['Criminal'],lr_ts['Criminal'],lgb_ts1['Criminal'],rgf_ts['Criminal'],xgb_ts['Criminal']))\n",
    "Y_tr=train['Criminal'].values"
   ]
  },
  {
   "cell_type": "code",
   "execution_count": 6,
   "metadata": {
    "collapsed": true
   },
   "outputs": [],
   "source": [
    "X_tr=np.column_stack((lr_tr['Criminal'],lr_tr1['Criminal'],lr_trnew['Criminal'],lr_trnew1['Criminal'],grad_tr['Criminal'],extra_tr['Criminal'],rgf_tr['Criminal'],rgf_tr1['Criminal'],rgf_trnew['Criminal'],rgf_trnew1['Criminal'],rgf_trnew2['Criminal'],rgf_trnew3['Criminal'],rgf_trnew4['Criminal'],xgb_tr['Criminal'],xgb_tr1['Criminal'],xgb_trnew1['Criminal'],lgb_tr ['Criminal'],lgb_tr1 ['Criminal'],lgb_tr2 ['Criminal'],lgb_tr3 ['Criminal'],lgb_tr4 ['Criminal'],lgb_tr5 ['Criminal'],lgb_tr6 ['Criminal'],lgb_tr7 ['Criminal'],lgb_tr8 ['Criminal'],lgb_trnew ['Criminal'],lgb_trnew1 ['Criminal'],lgb_trfet1 ['Criminal'],lgb_trfet2['Criminal']))\n",
    "X_ts=np.column_stack((lr_ts['Criminal'],lr_ts1['Criminal'],lr_tsnew['Criminal'],lr_tsnew1['Criminal'],grad_ts['Criminal'],extra_ts['Criminal'],rgf_ts['Criminal'],rgf_ts1['Criminal'],rgf_tsnew['Criminal'],rgf_tsnew1['Criminal'],rgf_tsnew2['Criminal'],rgf_tsnew3['Criminal'],rgf_tsnew4['Criminal'],xgb_ts['Criminal'],xgb_ts1['Criminal'],xgb_tsnew1['Criminal'],lgb_ts ['Criminal'],lgb_ts1 ['Criminal'],lgb_ts2 ['Criminal'],lgb_ts3 ['Criminal'],lgb_ts4 ['Criminal'],lgb_ts5 ['Criminal'],lgb_ts6 ['Criminal'],lgb_ts7 ['Criminal'],lgb_ts8 ['Criminal'],lgb_tsnew ['Criminal'],lgb_tsnew1 ['Criminal'],lgb_tsfet1 ['Criminal'],lgb_tsfet2 ['Criminal']))\n",
    "Y_tr=train['Criminal'].values"
   ]
  },
  {
   "cell_type": "code",
   "execution_count": null,
   "metadata": {
    "collapsed": true
   },
   "outputs": [],
   "source": [
    "# X_ts[:5]\n",
    "sum_tr=X_tr.sum(axis=1)\n",
    "sum_ts=X_ts.sum(axis=1)"
   ]
  },
  {
   "cell_type": "code",
   "execution_count": null,
   "metadata": {
    "collapsed": true
   },
   "outputs": [],
   "source": [
    "len(sum_tr[sum_tr==0])\n",
    "len(sum_ts[sum_ts==5])"
   ]
  },
  {
   "cell_type": "code",
   "execution_count": 7,
   "metadata": {
    "collapsed": true
   },
   "outputs": [],
   "source": [
    "tr_PERID=train['PERID']\n",
    "tr_Criminal=train['Criminal']\n",
    "train1=train.drop(['PERID','Criminal','ANALWT_C'],axis=1)\n",
    "\n",
    "ts_PERID=test['PERID']\n",
    "test1=test.drop(['PERID','ANALWT_C'],axis=1)"
   ]
  },
  {
   "cell_type": "code",
   "execution_count": 9,
   "metadata": {
    "collapsed": true
   },
   "outputs": [],
   "source": [
    "##one hot encoding of training and testing data\n",
    "encoder = OneHotEncoder()\n",
    "encoder.fit(np.vstack((train1.values, test1.values)))\n",
    "st_train = encoder.transform(train1.values)\n",
    "st_test = encoder.transform(test1.values)"
   ]
  },
  {
   "cell_type": "code",
   "execution_count": 10,
   "metadata": {
    "collapsed": true
   },
   "outputs": [],
   "source": [
    "X_tr1=np.column_stack((X_tr,st_train.A))\n",
    "X_ts1=np.column_stack((X_ts,st_test.A))"
   ]
  },
  {
   "cell_type": "code",
   "execution_count": 10,
   "metadata": {
    "collapsed": true
   },
   "outputs": [],
   "source": [
    "X_tr1=np.column_stack((X_tr,train1))\n",
    "X_ts1=np.column_stack((X_ts,test1))"
   ]
  },
  {
   "cell_type": "code",
   "execution_count": 56,
   "metadata": {
    "collapsed": true
   },
   "outputs": [],
   "source": [
    "## generate extra features from the 1 layers predictions\n",
    "X_tr[:2]\n",
    "X_tr_nonzero_count = np.count_nonzero(X_tr, axis=1)\n",
    "X_tr_zero_count = X_tr.shape[1] - X_tr_nonzero_count\n",
    "\n",
    "X_ts_nonzero_count = np.count_nonzero(X_ts, axis=1)\n",
    "X_ts_zero_count = X_ts.shape[1] - X_ts_nonzero_count\n",
    "\n",
    "X_tr1=np.column_stack((X_tr,X_tr_nonzero_count,X_tr_zero_count))\n",
    "X_ts1=np.column_stack((X_ts,X_ts_nonzero_count,X_ts_zero_count))"
   ]
  },
  {
   "cell_type": "code",
   "execution_count": null,
   "metadata": {
    "collapsed": true
   },
   "outputs": [],
   "source": []
  },
  {
   "cell_type": "code",
   "execution_count": 57,
   "metadata": {
    "collapsed": true
   },
   "outputs": [],
   "source": [
    "##scaling the train and test\n",
    "# scaler = StandardScaler()\n",
    "# scaler.fit(X_tr1)\n",
    "# Apply transform to both the training set and the test set.\n",
    "# X_tr1 = scaler.transform(X_tr1)\n",
    "# X_ts1 = scaler.transform(X_ts1)\n",
    "\n",
    "X_tr1 = preprocessing.normalize(X_tr1)\n",
    "X_ts1 = preprocessing.normalize(X_ts1)\n",
    "# X_ts1 = preprocessing.scale(X_ts1)\n",
    "# X_tr1 = preprocessing.scale(X_tr1)"
   ]
  },
  {
   "cell_type": "code",
   "execution_count": 123,
   "metadata": {},
   "outputs": [
    {
     "name": "stdout",
     "output_type": "stream",
     "text": [
      "(45716, 31)\n",
      "(11430, 31)\n",
      "(45716, 29)\n",
      "(11430, 29)\n"
     ]
    }
   ],
   "source": [
    "print(X_tr1.shape)\n",
    "print(X_ts1.shape)\n",
    "\n",
    "print(X_tr.shape)\n",
    "print(X_ts.shape)"
   ]
  },
  {
   "cell_type": "code",
   "execution_count": 24,
   "metadata": {
    "collapsed": true
   },
   "outputs": [
    {
     "name": "stdout",
     "output_type": "stream",
     "text": [
      "(9144,)\n"
     ]
    },
    {
     "name": "stderr",
     "output_type": "stream",
     "text": [
      "C:\\Users\\royal\\Anaconda3\\lib\\site-packages\\sklearn\\preprocessing\\label.py:151: DeprecationWarning: The truth value of an empty array is ambiguous. Returning False, but in future this will result in an error. Use `array.size > 0` to check that an array is not empty.\n",
      "  if diff:\n",
      "C:\\Users\\royal\\Anaconda3\\lib\\site-packages\\sklearn\\preprocessing\\label.py:151: DeprecationWarning: The truth value of an empty array is ambiguous. Returning False, but in future this will result in an error. Use `array.size > 0` to check that an array is not empty.\n",
      "  if diff:\n"
     ]
    },
    {
     "name": "stdout",
     "output_type": "stream",
     "text": [
      "fold 0, ROC AUC: 0.877\n",
      "0.6457245600019711\n",
      "(9143,)\n"
     ]
    },
    {
     "name": "stderr",
     "output_type": "stream",
     "text": [
      "C:\\Users\\royal\\Anaconda3\\lib\\site-packages\\sklearn\\preprocessing\\label.py:151: DeprecationWarning: The truth value of an empty array is ambiguous. Returning False, but in future this will result in an error. Use `array.size > 0` to check that an array is not empty.\n",
      "  if diff:\n",
      "C:\\Users\\royal\\Anaconda3\\lib\\site-packages\\sklearn\\preprocessing\\label.py:151: DeprecationWarning: The truth value of an empty array is ambiguous. Returning False, but in future this will result in an error. Use `array.size > 0` to check that an array is not empty.\n",
      "  if diff:\n"
     ]
    },
    {
     "name": "stdout",
     "output_type": "stream",
     "text": [
      "fold 1, ROC AUC: 0.901\n",
      "0.6783148241200272\n",
      "(9143,)\n"
     ]
    },
    {
     "name": "stderr",
     "output_type": "stream",
     "text": [
      "C:\\Users\\royal\\Anaconda3\\lib\\site-packages\\sklearn\\preprocessing\\label.py:151: DeprecationWarning: The truth value of an empty array is ambiguous. Returning False, but in future this will result in an error. Use `array.size > 0` to check that an array is not empty.\n",
      "  if diff:\n",
      "C:\\Users\\royal\\Anaconda3\\lib\\site-packages\\sklearn\\preprocessing\\label.py:151: DeprecationWarning: The truth value of an empty array is ambiguous. Returning False, but in future this will result in an error. Use `array.size > 0` to check that an array is not empty.\n",
      "  if diff:\n"
     ]
    },
    {
     "name": "stdout",
     "output_type": "stream",
     "text": [
      "fold 2, ROC AUC: 0.890\n",
      "0.6592677709093707\n",
      "(9143,)\n"
     ]
    },
    {
     "name": "stderr",
     "output_type": "stream",
     "text": [
      "C:\\Users\\royal\\Anaconda3\\lib\\site-packages\\sklearn\\preprocessing\\label.py:151: DeprecationWarning: The truth value of an empty array is ambiguous. Returning False, but in future this will result in an error. Use `array.size > 0` to check that an array is not empty.\n",
      "  if diff:\n",
      "C:\\Users\\royal\\Anaconda3\\lib\\site-packages\\sklearn\\preprocessing\\label.py:151: DeprecationWarning: The truth value of an empty array is ambiguous. Returning False, but in future this will result in an error. Use `array.size > 0` to check that an array is not empty.\n",
      "  if diff:\n"
     ]
    },
    {
     "name": "stdout",
     "output_type": "stream",
     "text": [
      "fold 3, ROC AUC: 0.878\n",
      "0.642096361293096\n",
      "(9143,)\n"
     ]
    },
    {
     "name": "stderr",
     "output_type": "stream",
     "text": [
      "C:\\Users\\royal\\Anaconda3\\lib\\site-packages\\sklearn\\preprocessing\\label.py:151: DeprecationWarning: The truth value of an empty array is ambiguous. Returning False, but in future this will result in an error. Use `array.size > 0` to check that an array is not empty.\n",
      "  if diff:\n",
      "C:\\Users\\royal\\Anaconda3\\lib\\site-packages\\sklearn\\preprocessing\\label.py:151: DeprecationWarning: The truth value of an empty array is ambiguous. Returning False, but in future this will result in an error. Use `array.size > 0` to check that an array is not empty.\n",
      "  if diff:\n"
     ]
    },
    {
     "name": "stdout",
     "output_type": "stream",
     "text": [
      "fold 4, ROC AUC: 0.877\n",
      "0.6313863147819552\n",
      "0.8843861012636813\n"
     ]
    }
   ],
   "source": [
    "seed=42\n",
    "clf = lgb.LGBMClassifier()\n",
    "# clf = RGFClassifier(max_leaf=500,algorithm=\"RGF\",test_interval=100, loss=\"LS\")\n",
    "# clf = RGFClassifier(max_leaf=500,algorithm=\"RGF_Sib\",test_interval=100, loss=\"LS\")\n",
    "# clf = LogisticRegression(class_weight ={1:10})\n",
    "# clf = LogisticRegression()\n",
    "# clf = GaussianNB()\n",
    "# clf = XGBClassifier()\n",
    "# clf=ExtraTreesClassifier(n_estimators=1000, criterion='entropy', max_depth=9,  min_samples_leaf=1,  n_jobs=30, random_state=1)\n",
    "# st_train=X_tr\n",
    "# st_test=X_ts\n",
    "st_train = np.column_stack((rgf_tr['Criminal'],lr_tr1['Criminal'],xgb_tr['Criminal'],lgb_tr4['Criminal'],lgb_tr7['Criminal']))\n",
    "st_test = np.column_stack((rgf_ts['Criminal'],lr_ts1['Criminal'],xgb_ts['Criminal'],lgb_ts4['Criminal'],lgb_ts7['Criminal']))\n",
    "Y=Y_tr\n",
    "fold = 5\n",
    "cv = StratifiedKFold(Y, n_folds=fold,shuffle=True)\n",
    "X_preds = np.zeros(st_train.shape[0])\n",
    "preds = np.zeros(st_test.shape[0])\n",
    "for i, (tr, ts) in enumerate(cv):\n",
    "    print(ts.shape)\n",
    "#     clf.set_params(random_state=seed + i)\n",
    "    mod = clf.fit(st_train[tr], Y[tr])\n",
    "    preds += mod.predict(st_test)\n",
    "    X_preds[ts] = mod.predict(st_train[ts])\n",
    "#     preds += mod.predict_proba(st_test)[:,1]\n",
    "#     X_preds[ts] = mod.predict_proba(st_train[ts])[:,1]\n",
    "    print(\"fold {}, ROC AUC: {:.3f}\".format(i, roc_auc_score(Y[ts], X_preds[ts])))\n",
    "    predictions = [round(value) for value in X_preds[ts]]\n",
    "    print(matthews_corrcoef(Y[ts], predictions))\n",
    "print(roc_auc_score(Y, X_preds))\n",
    "preds1 = preds/fold"
   ]
  },
  {
   "cell_type": "code",
   "execution_count": 33,
   "metadata": {},
   "outputs": [],
   "source": [
    "# clf = lgb.LGBMClassifier()\n",
    "# clf=ExtraTreesClassifier(n_estimators=1000, criterion='entropy', max_depth=9,  min_samples_leaf=1,  n_jobs=30, random_state=1)\n",
    "# st_train=X_tr\n",
    "# st_test=X_ts\n",
    "st_train = np.column_stack((rgf_tr['Criminal'],lr_tr1['Criminal'],xgb_tr['Criminal'],lgb_tr4['Criminal'],lgb_tr7['Criminal']))\n",
    "st_test = np.column_stack((rgf_ts['Criminal'],lr_ts1['Criminal'],xgb_ts['Criminal'],lgb_ts4['Criminal'],lgb_ts7['Criminal']))\n",
    "Y=Y_tr\n",
    "mod = clf.fit(st_train, Y)\n",
    "preds1 = mod.predict(st_test)"
   ]
  },
  {
   "cell_type": "code",
   "execution_count": 15,
   "metadata": {},
   "outputs": [
    {
     "data": {
      "text/plain": [
       "{0.0, 0.2, 0.4, 0.6, 0.8, 1.0}"
      ]
     },
     "execution_count": 15,
     "metadata": {},
     "output_type": "execute_result"
    }
   ],
   "source": [
    "X_preds = (lgb_tr['Criminal']+lr_tr['Criminal']+rgf_tr['Criminal']+lgb_tr1['Criminal']+xgb_tr['Criminal'])/5\n",
    "Y=Y_tr\n",
    "set(X_preds)"
   ]
  },
  {
   "cell_type": "code",
   "execution_count": 25,
   "metadata": {
    "collapsed": true
   },
   "outputs": [
    {
     "name": "stdout",
     "output_type": "stream",
     "text": [
      "0.6513022876862417\n",
      "0.01\n"
     ]
    },
    {
     "data": {
      "image/png": "[encoded data removed]",
      "text/plain": [
       "<matplotlib.figure.Figure at 0xb39fcf8>"
      ]
     },
     "metadata": {},
     "output_type": "display_data"
    }
   ],
   "source": [
    "##get highest MCC value\n",
    "thresholds = np.linspace(0.01, 0.99, 50)\n",
    "mcc = np.array([matthews_corrcoef(Y, X_preds>thr) for thr in thresholds])\n",
    "plt.plot(thresholds, mcc)\n",
    "best_threshold = thresholds[mcc.argmax()]\n",
    "print(mcc.max())\n",
    "print(best_threshold)"
   ]
  },
  {
   "cell_type": "code",
   "execution_count": 35,
   "metadata": {
    "collapsed": true
   },
   "outputs": [],
   "source": [
    "preds1=preds1.astype(int)\n",
    "sub = pd.DataFrame({'PERID': ts_PERID, 'Criminal': preds1})\n",
    "sub=sub.reindex(columns=[\"PERID\",\"Criminal\"])\n",
    "filename = 'submission.csv'\n",
    "sub.to_csv(filename, index=False)"
   ]
  },
  {
   "cell_type": "code",
   "execution_count": 65,
   "metadata": {
    "collapsed": true
   },
   "outputs": [],
   "source": [
    "prediction_rfc=list(range(len(preds1)))\n",
    "for i in range(len(preds1)):\n",
    "    prediction_rfc[i]=1 if preds1[i]>best_threshold else 0\n",
    "\n",
    "sub = pd.DataFrame({'PERID': ts_PERID, 'Criminal': prediction_rfc})\n",
    "sub=sub.reindex(columns=[\"PERID\",\"Criminal\"])\n",
    "filename = 'submission.csv'\n",
    "sub.to_csv(filename, index=False)"
   ]
  },
  {
   "cell_type": "code",
   "execution_count": 67,
   "metadata": {
    "collapsed": true
   },
   "outputs": [],
   "source": [
    "prediction_rfc=list(range(len(preds1)))\n",
    "for i in range(len(preds1)):\n",
    "    prediction_rfc[i]=1 if preds1[i]>best_threshold else 0\n",
    "\n",
    "sub = pd.DataFrame({'PERID': ts_PERID, 'Criminal': prediction_rfc})\n",
    "sub=sub.reindex(columns=[\"PERID\",\"Criminal\"])\n",
    "filename = 'submission_test_'+'lrstack1_'+str(mcc.max())+'.csv'\n",
    "sub.to_csv(filename, index=False)\n",
    "\n",
    "\n",
    "prediction_tr=list(range(len(X_preds)))\n",
    "for i in range(len(X_preds)):\n",
    "    prediction_tr[i]=1 if X_preds[i]>best_threshold else 0\n",
    "\n",
    "sub = pd.DataFrame({'PERID': tr_PERID, 'Criminal': prediction_tr})\n",
    "sub=sub.reindex(columns=[\"PERID\",\"Criminal\"])\n",
    "filename = filename = 'submission_train_'+'lrstack1_'+str(mcc.max())+'.csv'\n",
    "sub.to_csv(filename, index=False)"
   ]
  },
  {
   "cell_type": "code",
   "execution_count": null,
   "metadata": {
    "collapsed": true
   },
   "outputs": [],
   "source": [
    "prediction_rfc=(lgb_ts['Criminal']+xgb_ts['Criminal'])/2\n",
    "# +lr_ts['Criminal']+rgf_ts['Criminal']"
   ]
  },
  {
   "cell_type": "code",
   "execution_count": 20,
   "metadata": {
    "collapsed": true
   },
   "outputs": [],
   "source": [
    "# preds1 = (rgf_ts['Criminal']+lr_ts1['Criminal']+xgb_ts['Criminal']+lgb_ts4['Criminal']+lgb_ts7['Criminal'])/5 #84340\n",
    "# lgb_tr['Criminal'],lr_tr['Criminal'],lgb_tr1['Criminal'],rgf_tr['Criminal'],xgb_tr['Criminal']\n",
    "# preds1 = (rgf_tsnew1['Criminal']+lr_ts1['Criminal']+xgb_ts['Criminal']+lgb_tsnew2['Criminal']+lgb_ts7['Criminal'])/5 #8421\n",
    "\n",
    "preds1 = (rgf_ts['Criminal']+lr_ts1['Criminal']+xgb_ts['Criminal']+sub_nocat_nn['Criminal']+lgb_ts7['Criminal'])/5\n",
    "# preds1 = (lgb_ts1['Criminal']+lgb_ts2['Criminal']+lgb_ts3['Criminal']+lgb_ts4['Criminal']+lgb_ts5['Criminal']+lgb_ts6['Criminal']+lgb_ts7['Criminal'])/7\n",
    "# preds1=(lgb_ts['Criminal']+xgb_ts['Criminal'])/2\n",
    "# preds1=(lgb_ts['Criminal']+lr_ts['Criminal']+xgb_ts['Criminal'])/3\n",
    "\n",
    "prediction_rfc=list(range(len(preds1)))\n",
    "for i in range(len(preds1)):\n",
    "    prediction_rfc[i]=1 if preds1[i]>=0.80 else 0\n",
    "\n",
    "sub = pd.DataFrame({'PERID': ts_PERID, 'Criminal': prediction_rfc})\n",
    "sub=sub.reindex(columns=[\"PERID\",\"Criminal\"])\n",
    "filename = 'submission.csv'\n",
    "sub.to_csv(filename, index=False)"
   ]
  },
  {
   "cell_type": "code",
   "execution_count": null,
   "metadata": {
    "collapsed": true
   },
   "outputs": [],
   "source": [
    "# preds1 = (lgb_ts['Criminal']+lr_ts['Criminal']+rgf_ts['Criminal']+lgb_ts1['Criminal']+xgb_ts['Criminal'])/5\n",
    "preds1 = (rgf_ts['Criminal']+rgf_ts1['Criminal']+lr_ts1['Criminal']+xgb_ts['Criminal']+lgb_ts4['Criminal']+lgb_ts7['Criminal'])/6\n",
    "# preds1 = (lgb_ts1['Criminal']+lgb_ts2['Criminal']+lgb_ts3['Criminal']+lgb_ts4['Criminal']+lgb_ts5['Criminal']+lgb_ts6['Criminal']+lgb_ts7['Criminal'])/7\n",
    "print(set(preds1))"
   ]
  },
  {
   "cell_type": "code",
   "execution_count": null,
   "metadata": {
    "collapsed": true
   },
   "outputs": [],
   "source": [
    "\n",
    "preds1 = (sub1['Criminal']+sub2['Criminal']+sub3['Criminal']+sub4['Criminal']+sub5['Criminal']+sub6['Criminal'])/6\n",
    "\n",
    "prediction_rfc=list(range(len(preds1)))\n",
    "for i in range(len(preds1)):\n",
    "    prediction_rfc[i]=1 if preds1[i]>0.33 else 0\n",
    "\n",
    "sub = pd.DataFrame({'PERID': ts_PERID, 'Criminal': prediction_rfc})\n",
    "sub=sub.reindex(columns=[\"PERID\",\"Criminal\"])\n",
    "filename = 'submission.csv'\n",
    "sub.to_csv(filename, index=False)"
   ]
  },
  {
   "cell_type": "code",
   "execution_count": null,
   "metadata": {
    "collapsed": true
   },
   "outputs": [],
   "source": [
    "preds1 = (sub1['Criminal']+sub2['Criminal']+sub3['Criminal']+sub4['Criminal']+sub5['Criminal']+sub6['Criminal'])/6"
   ]
  },
  {
   "cell_type": "code",
   "execution_count": null,
   "metadata": {
    "collapsed": true
   },
   "outputs": [],
   "source": [
    "os.listdir()"
   ]
  },
  {
   "cell_type": "code",
   "execution_count": null,
   "metadata": {
    "collapsed": true
   },
   "outputs": [],
   "source": [
    "%%time\n",
    "##submision files from the previous metrics\n",
    "cat2d_ts = pd.read_csv('main_Catboost_count_2D.test.csv', header=None)\n",
    "cat2d_tr = pd.read_csv('main_Catboost_count_2D.train.csv', header=None)\n",
    "ext2d_ts = pd.read_csv('main_extratree_count_2D.test.csv', header=None)\n",
    "ext2d_tr = pd.read_csv('main_extratree_count_2D.train.csv', header=None)\n",
    "lgm2d_ts = pd.read_csv('main_lgmboost_count_2D.test.csv', header=None)\n",
    "lgm2d_tr = pd.read_csv('main_lgmboost_count_2D.train.csv', header=None)\n",
    "lgmtun2d_ts = pd.read_csv('main_lgmboost_count_2D_tuned.test.csv', header=None)\n",
    "lgmtun2d_tr = pd.read_csv('main_lgmboost_count_2D_tuned.train.csv', header=None)\n",
    "log1w_ts = pd.read_csv('main_logit_1way.test.csv', header=None)\n",
    "log1w_tr = pd.read_csv('main_logit_1way.train.csv', header=None)\n",
    "log2w_ts = pd.read_csv('main_logit_2way2.test.csv', header=None)\n",
    "log2w_tr = pd.read_csv('main_logit_2way2.train.csv', header=None)\n",
    "log4w_ts = pd.read_csv('main_logit_2way4.test.csv', header=None)\n",
    "log4w_tr = pd.read_csv('main_logit_2way4.train.csv', header=None)\n",
    "nn2d_ts = pd.read_csv('main_NN_2D.test.csv', header=None)\n",
    "nn2d_tr = pd.read_csv('main_NN_2D.train.csv', header=None)\n",
    "rfc2d_ts = pd.read_csv('main_randomforrest_count_1D.test.csv', header=None)\n",
    "rfc2d_tr = pd.read_csv('main_randomforrest_count_1D.train.csv', header=None)\n",
    "rgf2d_ts = pd.read_csv('main_rgf_2D.test.csv', header=None)\n",
    "rgf2d_tr = pd.read_csv('main_rgf_2D.train.csv', header=None)\n",
    "rgfcoun2d_ts = pd.read_csv('main_rgf_count_2D.test.csv', header=None)\n",
    "rgfcoun2d_tr = pd.read_csv('main_rgf_count_2D.train.csv', header=None)\n",
    "xgb1d_ts = pd.read_csv('main_xgboos_count_1D.test.csv', header=None)\n",
    "xgb1d_tr = pd.read_csv('main_xgboos_count_1D.train.csv', header=None)\n",
    "xgb2d_ts = pd.read_csv('main_xgboos_count_2D.test.csv', header=None)\n",
    "xgb2d_tr = pd.read_csv('main_xgboos_count_2D.train.csv', header=None)\n",
    "\n",
    "test=pd.read_csv('test.csv')\n",
    "train=pd.read_csv('train.csv')"
   ]
  },
  {
   "cell_type": "code",
   "execution_count": null,
   "metadata": {
    "collapsed": true
   },
   "outputs": [],
   "source": [
    "X_tr=np.column_stack((cat2d_tr[0],ext2d_tr[0],lgm2d_tr[0],lgmtun2d_tr[0],log1w_tr[0],log2w_tr[0],log4w_tr[0],nn2d_tr[0],rfc2d_tr[0],rgf2d_tr[0],rgfcoun2d_tr[0],xgb1d_tr[0],xgb2d_tr[0]))\n",
    "X_ts=np.column_stack((cat2d_ts[0],ext2d_ts[0],lgm2d_ts[0],lgmtun2d_ts[0],log1w_ts[0],log2w_ts[0],log4w_ts[0],nn2d_ts[0],rfc2d_ts[0],rgf2d_ts[0],rgfcoun2d_ts[0],xgb1d_ts[0],xgb2d_ts[0]))\n",
    "Y_tr=train['Criminal'].values"
   ]
  },
  {
   "cell_type": "code",
   "execution_count": null,
   "metadata": {
    "collapsed": true
   },
   "outputs": [],
   "source": [
    "weights = [1.0,1.0,1.0,1.0,1.0] # your weights for each model\n",
    "rgf_ts['Criminal']+lr_ts['Criminal']+xgb_ts['Criminal']+lgb_ts4['Criminal']+lgb_ts7['Criminal']\n",
    "files = ['submission_test__Rgf_0.6517340388845543.csv', 'submission_test__Lr_0.650642725010492.csv',\n",
    "         'submission_test__Xgb_0.6476731391728516.csv','submission_test_lgb4_0.654614977600063.csv',\n",
    "        'submission_test_lgb7_0.6483687842355492.csv'] # your prediction files \n",
    "\n",
    "finalRank = 0\n",
    "for i in range(len(files)):\n",
    "    temp_df = pd.read_csv(files[i])\n",
    "    finalRank = finalRank + rankdata(temp_df.Criminal, method='ordinal') * weights[i]\n",
    "finalRank = finalRank / (max(finalRank) + 1.0)\n",
    "\n",
    "prediction_rfc=list(range(len(finalRank)))\n",
    "for i in range(len(finalRank)):\n",
    "    prediction_rfc[i]=1 if finalRank[i]>0.5 else 0\n",
    "\n",
    "sub = pd.DataFrame({'PERID': ts_PERID, 'Criminal': prediction_rfc})\n",
    "sub=sub.reindex(columns=[\"PERID\",\"Criminal\"])\n",
    "filename = 'submission.csv'\n",
    "sub.to_csv(filename, index=False)"
   ]
  },
  {
   "cell_type": "code",
   "execution_count": 270,
   "metadata": {},
   "outputs": [],
   "source": [
    "##brute forcing by changing single single prediction between blend of blends and Neural network on boruta feature selection.\n",
    "jk=[13204699,95457799,80497109,48947409,68294339,59884840,19700450,65868470,79327480,35735890,79560100,81698710,19614320,63852620]\n",
    "jk1=[18381779,73135979,91094079,34102389,69211499,17013909,41211139,83934640,73988690,47677120]\n",
    "su=sub_84340\n",
    "for k,i in zip(lgb_ts['PERID'],su['Criminal']):\n",
    "    if k in jk1:\n",
    "        su.loc[su['PERID'] == k, 'Criminal'] = 0\n",
    "    if k in jk:\n",
    "        su.loc[su['PERID'] == k, 'Criminal'] = 1"
   ]
  },
  {
   "cell_type": "code",
   "execution_count": null,
   "metadata": {
    "collapsed": true
   },
   "outputs": [],
   "source": [
    "filename = 'subm.csv'\n",
    "su.to_csv(filename, index=False)"
   ]
  }
 ],
 "metadata": {
  "kernelspec": {
   "display_name": "Python 3",
   "language": "python",
   "name": "python3"
  },
  "language_info": {
   "codemirror_mode": {
    "name": "ipython",
    "version": 3
   },
   "file_extension": ".py",
   "mimetype": "text/x-python",
   "name": "python",
   "nbconvert_exporter": "python",
   "pygments_lexer": "ipython3",
   "version": "3.6.1"
  }
 },
 "nbformat": 4,
 "nbformat_minor": 2
}
